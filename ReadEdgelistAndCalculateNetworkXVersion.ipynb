{
 "cells": [
  {
   "cell_type": "code",
   "execution_count": null,
   "metadata": {},
   "outputs": [],
   "source": [
    "import pandas as pd\n",
    "import networkx as nx  \n",
    "import numpy as np"
   ]
  },
  {
   "cell_type": "code",
   "execution_count": null,
   "metadata": {},
   "outputs": [],
   "source": [
    "# Read all relationships\n",
    "file = 'asso1140-1149.h5'\n",
    "\n",
    "allrel = pd.read_hdf(file, key='asso', mode='r')"
   ]
  },
  {
   "cell_type": "code",
   "execution_count": null,
   "metadata": {},
   "outputs": [],
   "source": [
    "# split relationships to positive (assodf) and negative (enemydf)\n",
    "assodf = allrel[allrel.weight>0]\n",
    "enemydf = allrel[allrel.weight<0]"
   ]
  },
  {
   "cell_type": "markdown",
   "metadata": {},
   "source": [
    "# Calculate EVC"
   ]
  },
  {
   "cell_type": "code",
   "execution_count": null,
   "metadata": {},
   "outputs": [],
   "source": [
    "# build a graph based on assodf\n",
    "G = nx.from_pandas_edgelist(assodf, 'initiator', 'object', ['weight'])\n",
    "# Calculate the eigenvector centrality (EVC) of assodf\n",
    "centrality = nx.eigenvector_centrality(G ,max_iter=500, weight = 'weight' )\n",
    "# Build a dataframe based on the eigenvector centrality \n",
    "evc = pd.DataFrame(data = centrality,index=[0]).T"
   ]
  },
  {
   "cell_type": "code",
   "execution_count": null,
   "metadata": {},
   "outputs": [],
   "source": [
    "# save the eigenvector centrality to file\n",
    "evc.to_csv('eigenvectorPositive.csv',header = None)"
   ]
  },
  {
   "cell_type": "code",
   "execution_count": null,
   "metadata": {},
   "outputs": [],
   "source": [
    "evc.columns = ['originalEVC']\n",
    "# calculate the lowest EVC\n",
    "minEVC = min(evc.originalEVC)\n",
    "# set the lowest EVC to ONE and then Logarithm\n",
    "evc['transformedEV'] =  np.log(evc.originalEVC/minEVC)"
   ]
  },
  {
   "cell_type": "markdown",
   "metadata": {},
   "source": [
    "# Calculae EnemyIndex"
   ]
  },
  {
   "cell_type": "code",
   "execution_count": null,
   "metadata": {
    "scrolled": true
   },
   "outputs": [],
   "source": [
    "# find the EVC of the object for each relationship\n",
    "enemydf = enemydf.join(evc, on='object')\n",
    "# weighted the relationship with EVC of the object \n",
    "enemydf['evcWeighted'] =  - enemydf.weight * enemydf.transformedEV\n",
    "enemydf.drop(['weight','originalEVC','transformedEV'], axis = 1, inplace = True)\n",
    "\n",
    "# add enemy index by initiator\n",
    "enemyIndex = enemydf.groupby(['initiator'])['evcWeighted'].agg('sum')\n",
    "enemyIndex.to_csv('enemyindex.csv')"
   ]
  }
 ],
 "metadata": {
  "kernelspec": {
   "display_name": "Python 3",
   "language": "python",
   "name": "python3"
  },
  "language_info": {
   "codemirror_mode": {
    "name": "ipython",
    "version": 3
   },
   "file_extension": ".py",
   "mimetype": "text/x-python",
   "name": "python",
   "nbconvert_exporter": "python",
   "pygments_lexer": "ipython3",
   "version": "3.6.8"
  }
 },
 "nbformat": 4,
 "nbformat_minor": 2
}
