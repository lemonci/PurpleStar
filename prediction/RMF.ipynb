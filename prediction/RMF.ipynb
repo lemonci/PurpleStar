{
 "cells": [
  {
   "cell_type": "code",
   "execution_count": 2,
   "metadata": {},
   "outputs": [],
   "source": [
    "import pandas as pd\n",
    "import numpy as np\n",
    "from sklearn.model_selection import cross_val_predict, GridSearchCV, cross_val_score \n",
    "from sklearn.ensemble import RandomForestRegressor\n",
    "from sklearn.preprocessing import MinMaxScaler\n",
    "from sklearn import metrics\n",
    "from sklearn.model_selection import train_test_split\n",
    "from sklearn.ensemble import RandomForestClassifier"
   ]
  },
  {
   "cell_type": "code",
   "execution_count": 11,
   "metadata": {},
   "outputs": [
    {
     "name": "stderr",
     "output_type": "stream",
     "text": [
      "C:\\Users\\mengqili\\AppData\\Local\\Continuum\\anaconda3\\lib\\site-packages\\ipykernel_launcher.py:6: FutureWarning: Method .as_matrix will be removed in a future version. Use .values instead.\n",
      "  \n",
      "C:\\Users\\mengqili\\AppData\\Local\\Continuum\\anaconda3\\lib\\site-packages\\ipykernel_launcher.py:8: FutureWarning: Method .as_matrix will be removed in a future version. Use .values instead.\n",
      "  \n"
     ]
    }
   ],
   "source": [
    "data = pd.read_csv('Song_noeigen.csv')\n",
    "#data.info()\n",
    "#labels = ['age', 'Sex', 'Grade', 'Handedness', 'Ground_Time', 'Air_Time', 'Air_Ground_Ratio', 'Speed', 'SD_Time_Per_Word', 'Pressure', 'SD_Pressure', 'Out_Grid', 'Wrong_stroke', 'Additional_stroke', 'Missing_stroke', 'Concatenated_stroke', 'Reversed_stroke', 'Wrong_stroke_sequence', 'Recognized_words', 'Tilt', 'Slant','Shear','HorizontalAlignment','VerticalAlignment','SystematicHorizontalAlignment','SystematicVerticalAlignment','Size','SizeSD','OutofGridExtent','spacingSD']\n",
    "labels=['c_index_year', 'c_birthyear', 'c_deathyear', 'c_entry_code', 'entry_age', 'entry_year', 'Zizhou_Lu', 'Kaifeng_Fu', 'Jinghu_bei_Lu', 'Huainandong_Lu', 'Jingdongxi_Lu', 'Hebeidong_Lu', 'Jiangnandong_Lu', 'Jiangnanxi_Lu', 'Jingji_Lu', 'Jingxibei_Lu', 'Hebeixi_Lu', 'Liangzhexi_Lu', 'Fujian_Lu', 'Liangzhedong_Lu', 'Lizhou_Lu', 'Jinghu_nan_Lu', 'Huainanxi_Lu', 'Yizhou_Lu', 'Guangnanxi_Lu', 'Jingxinan_Lu', 'Jingxi_Lu', 'Guangnandong_Lu', 'Yongxing_Lu', 'Jingdongdong_Lu', 'Qinfeng_Lu', 'Hedong_Lu', 'Yunzhong_Lu', 'Kuizhou_Lu', 'Shandongxi_Lu', 'Hebei_Dao', 'Nanjing_Lu', 'Hedong_Dao', 'Guannei_Dao', 'Jiangnan_Dao', 'Zhongdu_Lu', 'Jiannan_Dao', 'Song_Enfoeffment_Placenames', 'Jingshi', 'Zhejiang_Buzhengsi', 'Xijing_Lu', 'Hedongnan_Lu', 'Shandongdong_Lu', 'Henan_Dao', 'Hebeixi_Lu', 'Jiangzhe_Xingzhongshusheng', 'Fuyan_Lu', 'Shaanxi_Lu', 'Henan_Buzhengsi', '36', '165', '118', '101', '54', '50', '32', '48', '64', '28', '29', '60', '8', '130', '14', '161', '39', '26', '163', '139', '42', '59', '226', '137', '77', '70', '44', '132', '5', '73', '225', '107', '248', '47', '112', '1', '96', '33', '74', '15', '94', '62', '138', '27', '34', '57', '7', '91', '21', '43', '80', '141', '169', '168', '124']\n",
    "dataset_X = data[labels]\n",
    "dataset_X = dataset_X.as_matrix()\n",
    "dataset_y = data[['Rank']]\n",
    "dataset_y = dataset_y.as_matrix().ravel()"
   ]
  },
  {
   "cell_type": "code",
   "execution_count": null,
   "metadata": {},
   "outputs": [],
   "source": []
  },
  {
   "cell_type": "code",
   "execution_count": 4,
   "metadata": {},
   "outputs": [],
   "source": [
    "def rfr_model(X, y):\n",
    "    # Perform Grid-Search \n",
    "    gsc = GridSearchCV(\n",
    "        estimator=RandomForestRegressor(),\n",
    "        param_grid={\n",
    "            'max_depth': range(3,7),\n",
    "            'n_estimators': (10, 50, 100, 1000),\n",
    "        },\n",
    "        cv=5, scoring='neg_mean_squared_error', verbose=0, n_jobs=-1)\n",
    "    \n",
    "    grid_result = gsc.fit(X, y)\n",
    "    best_params = grid_result.best_params_\n",
    "    \n",
    "    rfr = RandomForestRegressor(max_depth=best_params[\"max_depth\"],\n",
    "                                n_estimators=best_params[\"n_estimators\"],\n",
    "                                random_state=False, verbose=False)\n",
    "    # Perform K-Fold CV\n",
    "#    scores = cross_val_score(rfr, X, y, cv=10, scoring='neg_mean_absolute_error')\n",
    "    predictions = cross_val_predict(rfr, X, y, cv=10)\n",
    "#    accuracy = metrics.accuracy_score(y, predictions)\n",
    "#    print(scores)\n",
    "#    print(predictions)\n",
    "#    print(accuracy)\n",
    "    return predictions"
   ]
  },
  {
   "cell_type": "code",
   "execution_count": 12,
   "metadata": {},
   "outputs": [
    {
     "name": "stderr",
     "output_type": "stream",
     "text": [
      "C:\\Users\\mengqili\\AppData\\Local\\Continuum\\anaconda3\\lib\\site-packages\\ipykernel_launcher.py:2: FutureWarning: Method .as_matrix will be removed in a future version. Use .values instead.\n",
      "  \n"
     ]
    },
    {
     "name": "stdout",
     "output_type": "stream",
     "text": [
      "0.09114927344782034\n",
      "0.1155878467635403\n",
      "0.09180977542932629\n",
      "0.11624834874504623\n",
      "0.11492734478203434\n",
      "0.1023778071334214\n",
      "0.10898282694848084\n",
      "0.11360634081902246\n",
      "0.11955085865257596\n",
      "0.11294583883751651\n",
      "0.13606340819022458\n",
      "0.1010568031704095\n",
      "0.10634081902245707\n",
      "0.1202113606340819\n",
      "0.13011889035667107\n",
      "0.12483487450462351\n",
      "0.11690885072655217\n",
      "0.1096433289299868\n",
      "0.11030383091149273\n",
      "0.12681638044914134\n",
      "0.1334214002642008\n",
      "0.12285336856010567\n",
      "0.12087186261558784\n",
      "0.11492734478203434\n",
      "0.12549537648612946\n",
      "0.1083223249669749\n",
      "0.11955085865257596\n",
      "0.12417437252311757\n",
      "0.11162483487450463\n",
      "0.09973579920739763\n",
      "0.10766182298546896\n",
      "0.10501981505944517\n",
      "0.0891677675033025\n",
      "0.11624834874504623\n",
      "0.1142668428005284\n",
      "0.09313077939233817\n",
      "0.1083223249669749\n",
      "0.1334214002642008\n",
      "0.11690885072655217\n",
      "0.11690885072655217\n",
      "0.1261558784676354\n",
      "0.11624834874504623\n",
      "0.11822985468956407\n",
      "0.1023778071334214\n",
      "0.1023778071334214\n",
      "0.1096433289299868\n",
      "0.1202113606340819\n",
      "0.1096433289299868\n",
      "0.1155878467635403\n",
      "0.12681638044914134\n",
      "0.11096433289299867\n",
      "0.13276089828269486\n",
      "0.12087186261558784\n",
      "0.0977542932628798\n",
      "0.08718626155878467\n",
      "0.11690885072655217\n",
      "0.12087186261558784\n",
      "0.11822985468956407\n",
      "0.12087186261558784\n",
      "0.11294583883751651\n",
      "0.11889035667107001\n",
      "0.10898282694848084\n",
      "0.09907529722589167\n",
      "0.1142668428005284\n",
      "0.13143989431968295\n",
      "0.11690885072655217\n",
      "0.09709379128137384\n",
      "0.12285336856010567\n",
      "0.12549537648612946\n",
      "0.11360634081902246\n",
      "0.1261558784676354\n",
      "0.09379128137384413\n",
      "0.1036988110964333\n",
      "0.09313077939233817\n",
      "0.12351387054161163\n",
      "0.09907529722589167\n",
      "0.10766182298546896\n",
      "0.12681638044914134\n",
      "0.11492734478203434\n",
      "0.12219286657859973\n",
      "0.12747688243064728\n",
      "0.11822985468956407\n",
      "0.09709379128137384\n",
      "0.12219286657859973\n",
      "0.12417437252311757\n",
      "0.10766182298546896\n",
      "0.11030383091149273\n",
      "0.12417437252311757\n",
      "0.1036988110964333\n",
      "0.11690885072655217\n",
      "0.10700132100396301\n",
      "0.1215323645970938\n",
      "0.0977542932628798\n",
      "0.09445178335535007\n",
      "0.11822985468956407\n",
      "0.11294583883751651\n",
      "0.12417437252311757\n",
      "0.09445178335535007\n",
      "0.12087186261558784\n",
      "0.1096433289299868\n"
     ]
    }
   ],
   "source": [
    "dataset_y = data[['RankL']]\n",
    "dataset_y = dataset_y.as_matrix().ravel()\n",
    "for i in range(1, 101):\n",
    "    X_train, X_test, y_train, y_test = train_test_split(dataset_X, dataset_y, test_size = 0.2, random_state = i)#Gaussian Classifier\n",
    "    rmf = RandomForestClassifier(n_estimators= 60, max_depth=3, min_samples_split=4,\n",
    "                                  min_samples_leaf=1,max_features=3 ,oob_score=True, random_state=10)\n",
    "    rmf.fit(X_train, y_train)\n",
    "    y_pred = rmf.predict(X_test)\n",
    "    print(metrics.accuracy_score(y_test, y_pred))"
   ]
  },
  {
   "cell_type": "code",
   "execution_count": 6,
   "metadata": {},
   "outputs": [],
   "source": [
    "result = rfr_model(dataset_X , dataset_y)"
   ]
  },
  {
   "cell_type": "code",
   "execution_count": 8,
   "metadata": {},
   "outputs": [],
   "source": [
    "np.savetxt(\"compare.csv\", result , delimiter=\",\")"
   ]
  },
  {
   "cell_type": "code",
   "execution_count": null,
   "metadata": {},
   "outputs": [],
   "source": []
  },
  {
   "cell_type": "code",
   "execution_count": null,
   "metadata": {},
   "outputs": [],
   "source": []
  },
  {
   "cell_type": "code",
   "execution_count": null,
   "metadata": {},
   "outputs": [],
   "source": []
  },
  {
   "cell_type": "code",
   "execution_count": null,
   "metadata": {},
   "outputs": [],
   "source": []
  }
 ],
 "metadata": {
  "kernelspec": {
   "display_name": "Python 3",
   "language": "python",
   "name": "python3"
  },
  "language_info": {
   "codemirror_mode": {
    "name": "ipython",
    "version": 3
   },
   "file_extension": ".py",
   "mimetype": "text/x-python",
   "name": "python",
   "nbconvert_exporter": "python",
   "pygments_lexer": "ipython3",
   "version": "3.6.5"
  }
 },
 "nbformat": 4,
 "nbformat_minor": 2
}
