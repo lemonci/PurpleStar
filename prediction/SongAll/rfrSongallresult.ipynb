{
 "cells": [
  {
   "cell_type": "code",
   "execution_count": 1,
   "metadata": {},
   "outputs": [],
   "source": [
    "import pandas as pd\n",
    "import numpy as np\n",
    "from sklearn.model_selection import cross_val_predict, GridSearchCV, cross_val_score \n",
    "from sklearn.ensemble import RandomForestRegressor\n",
    "from sklearn.preprocessing import MinMaxScaler\n",
    "from sklearn import metrics\n",
    "from sklearn.model_selection import train_test_split\n",
    "from sklearn.ensemble import RandomForestClassifier\n",
    "from sklearn.svm import SVR"
   ]
  },
  {
   "cell_type": "code",
   "execution_count": 3,
   "metadata": {},
   "outputs": [
    {
     "name": "stderr",
     "output_type": "stream",
     "text": [
      "C:\\Users\\mengqili\\AppData\\Local\\Continuum\\anaconda3\\lib\\site-packages\\ipykernel_launcher.py:6: FutureWarning: Method .as_matrix will be removed in a future version. Use .values instead.\n",
      "  \n",
      "C:\\Users\\mengqili\\AppData\\Local\\Continuum\\anaconda3\\lib\\site-packages\\ipykernel_launcher.py:8: FutureWarning: Method .as_matrix will be removed in a future version. Use .values instead.\n",
      "  \n"
     ]
    }
   ],
   "source": [
    "from sklearn.feature_selection import SelectFromModel\n",
    "data = pd.read_csv('Song1-9.5onehot.csv')\n",
    "#data.info()\n",
    "#labelsel=['Friend', 'Enemy', 'Lindex', 'c_index_year', 'c_birthyear', 'c_deathyear', 'c_death_age', 'c_fl_earliest_year', 'c_fl_ey_nh_code', 'c_fl_latest_year', 'c_choronym_code', 'LU', 'c_entry_code', 'Longitude', 'Latitude']\n",
    "labelsel=['Friend', 'Enemy', 'Lindex', 'c_index_year', 'c_birthyear', 'c_deathyear', 'c_death_age', 'c_fl_earliest_year', 'c_fl_ey_nh_code', 'c_fl_latest_year', 'Longitude', 'Latitude', 'Lu_0', 'Lu_11026', 'Lu_11027', 'Lu_11141', 'Lu_11203', 'Lu_11287', 'Lu_11296', 'Lu_11371', 'Lu_11546', 'Lu_11703', 'Lu_11857', 'Lu_11901', 'Lu_12091', 'Lu_12214', 'Lu_12433', 'Lu_12587', 'Lu_12669', 'Lu_12753', 'Lu_12824', 'Lu_12907', 'Lu_13015', 'Lu_13098', 'Lu_13284', 'Lu_13425', 'Lu_13576', 'Lu_13700', 'Lu_13867', 'Lu_13952', 'Lu_14091', 'choronym_0', 'choronym_1', 'choronym_2', 'choronym_3', 'choronym_4', 'choronym_6', 'choronym_7', 'choronym_8', 'choronym_9', 'choronym_10', 'choronym_11', 'choronym_12', 'choronym_13', 'choronym_14', 'choronym_15', 'choronym_16', 'choronym_17', 'choronym_18', 'choronym_19', 'choronym_20', 'choronym_21', 'choronym_22', 'choronym_23', 'choronym_24', 'choronym_25', 'choronym_27', 'choronym_28', 'choronym_29', 'choronym_30', 'choronym_31', 'choronym_32', 'choronym_33', 'choronym_34', 'choronym_36', 'choronym_37', 'choronym_38', 'choronym_39', 'choronym_41', 'choronym_42', 'choronym_43', 'choronym_45', 'choronym_46', 'choronym_47', 'choronym_48', 'choronym_49', 'choronym_51', 'choronym_53', 'choronym_55', 'choronym_58', 'choronym_59', 'choronym_61', 'choronym_62', 'choronym_63', 'choronym_64', 'choronym_66', 'choronym_67', 'choronym_69', 'choronym_71', 'choronym_72', 'choronym_73', 'choronym_74', 'choronym_75', 'choronym_76', 'choronym_79', 'choronym_80', 'choronym_81', 'choronym_82', 'choronym_83', 'choronym_84', 'choronym_85', 'choronym_86', 'choronym_87', 'choronym_90', 'choronym_91', 'choronym_93', 'choronym_94', 'choronym_95', 'choronym_98', 'choronym_99', 'choronym_100', 'choronym_101', 'choronym_104', 'choronym_105', 'choronym_106', 'choronym_108', 'choronym_109', 'choronym_110', 'choronym_112', 'choronym_115', 'choronym_117', 'choronym_147', 'choronym_154', 'choronym_156', 'entry_0', 'entry_1', 'entry_5', 'entry_7', 'entry_8', 'entry_14', 'entry_15', 'entry_21', 'entry_26', 'entry_27', 'entry_28', 'entry_29', 'entry_32', 'entry_33', 'entry_34', 'entry_36', 'entry_39', 'entry_42', 'entry_43', 'entry_44', 'entry_46', 'entry_47', 'entry_48', 'entry_50', 'entry_54', 'entry_57', 'entry_59', 'entry_60', 'entry_62', 'entry_64', 'entry_70', 'entry_72', 'entry_73', 'entry_74', 'entry_77', 'entry_78', 'entry_80', 'entry_90', 'entry_91', 'entry_94', 'entry_96', 'entry_101', 'entry_105', 'entry_107', 'entry_109', 'entry_112', 'entry_114', 'entry_116', 'entry_118', 'entry_124', 'entry_130', 'entry_132', 'entry_137', 'entry_138', 'entry_139', 'entry_141', 'entry_145', 'entry_161', 'entry_163', 'entry_165', 'entry_166', 'entry_168', 'entry_169', 'entry_225', 'entry_226', 'entry_248']\n",
    "dataset_X = data[labelsel].as_matrix()\n",
    "dataset_y = data[['Rank9']]\n",
    "dataset_y = dataset_y.as_matrix().ravel()"
   ]
  },
  {
   "cell_type": "code",
   "execution_count": 4,
   "metadata": {},
   "outputs": [
    {
     "name": "stdout",
     "output_type": "stream",
     "text": [
      "[ True  True  True  True  True  True  True False False False  True  True\n",
      " False False False False False False False False False False False False\n",
      " False False False False False False False False False False False False\n",
      " False False False False False False False False False False False False\n",
      " False False False False False False False False False False False False\n",
      " False False False False False False False False False False False False\n",
      " False False False False False False False False False False False False\n",
      " False False False False False False False False False False False False\n",
      " False False False False False False False False False False False False\n",
      " False False False False False False False False False False False False\n",
      " False False False False False False False False False False False False\n",
      " False False False False False False False False False False False False\n",
      " False False False False False False False False False False False False\n",
      " False False False False False False False  True False False False False\n",
      " False False False False False  True False False False False False False\n",
      " False False False False False False False False False False False False\n",
      " False False False False False False False False]\n",
      "[-1.68127408 -1.66191444 -1.65012849 -1.67911225 -1.65345811 -1.67567646\n",
      " -1.67093373 -1.68535306 -1.68090056 -1.68881913]\n",
      "4.24570158820813\n",
      "[3 8 7 ... 5 9 4] [6.68124998 5.98363574 5.09612835 ... 5.9303012  7.4117738  6.12794962]\n"
     ]
    }
   ],
   "source": [
    "# Perform Grid-Search \n",
    "gsc = GridSearchCV(\n",
    "    estimator=RandomForestRegressor(),\n",
    "    param_grid={\n",
    "        'max_depth': range(3,7),\n",
    "        'n_estimators': (10, 50, 100, 1000),\n",
    "    },\n",
    "    cv=5, scoring='neg_mean_squared_error', verbose=0, n_jobs=-1)\n",
    "\n",
    "grid_result = gsc.fit(dataset_X, dataset_y)\n",
    "best_params = grid_result.best_params_\n",
    "\n",
    "#sel = SelectFromModel(RandomForestRegressor(max_depth=best_params[\"max_depth\"],\n",
    "#                            n_estimators=best_params[\"n_estimators\"],\n",
    "#                            random_state=False, verbose=False))\n",
    "#sel.fit(dataset_X, dataset_y)\n",
    "#print(sel.get_support())\n",
    "rfr = RandomForestRegressor(max_depth=best_params[\"max_depth\"],\n",
    "                            n_estimators=best_params[\"n_estimators\"],\n",
    "                            random_state=False, verbose=False)\n",
    "# Perform K-Fold CV\n",
    "scores = cross_val_score(rfr, dataset_X, dataset_y, cv=10, scoring='neg_mean_absolute_error')\n",
    "predictions = cross_val_predict(rfr, dataset_X,dataset_y, cv=10)\n",
    "MSE = metrics.mean_squared_error(dataset_y, predictions)\n",
    "print(scores)\n",
    "print(MSE)\n",
    "print(dataset_y, predictions)"
   ]
  },
  {
   "cell_type": "code",
   "execution_count": 5,
   "metadata": {},
   "outputs": [
    {
     "name": "stdout",
     "output_type": "stream",
     "text": [
      "[(0.411, 'Lindex'), (0.1861, 'Latitude'), (0.1086, 'Enemy'), (0.0833, 'Friend'), (0.0701, 'c_death_age'), (0.0268, 'c_index_year'), (0.025, 'entry_94'), (0.0188, 'entry_64'), (0.0152, 'c_deathyear'), (0.0123, 'Longitude'), (0.0055, 'c_birthyear'), (0.0048, 'c_fl_ey_nh_code'), (0.0048, 'Lu_11027'), (0.0046, 'c_fl_earliest_year'), (0.003, 'Lu_13867'), (0.002, 'c_fl_latest_year'), (0.0018, 'entry_118'), (0.0016, 'entry_36'), (0.0014, 'entry_74'), (0.0014, 'choronym_0'), (0.0011, 'entry_0'), (0.001, 'Lu_12214'), (0.0007, 'entry_50'), (0.0006, 'entry_54'), (0.0005, 'entry_14'), (0.0005, 'Lu_11546'), (0.0004, 'entry_101'), (0.0004, 'choronym_19'), (0.0004, 'choronym_18'), (0.0004, 'Lu_12907'), (0.0004, 'Lu_11296'), (0.0004, 'Lu_0'), (0.0003, 'entry_33'), (0.0003, 'entry_165'), (0.0003, 'Lu_11901'), (0.0003, 'Lu_11371'), (0.0003, 'Lu_11203'), (0.0003, 'Lu_11141'), (0.0002, 'entry_91'), (0.0002, 'entry_29'), (0.0002, 'entry_137'), (0.0002, 'Lu_12669'), (0.0002, 'Lu_12091'), (0.0002, 'Lu_11026'), (0.0001, 'entry_77'), (0.0001, 'choronym_83'), (0.0001, 'choronym_45'), (0.0001, 'choronym_30'), (0.0001, 'choronym_21'), (0.0001, 'choronym_12'), (0.0001, 'Lu_14091'), (0.0001, 'Lu_13098'), (0.0001, 'Lu_12824'), (0.0001, 'Lu_12753'), (0.0001, 'Lu_12433'), (0.0001, 'Lu_11703'), (0.0, 'entry_96'), (0.0, 'entry_90'), (0.0, 'entry_80'), (0.0, 'entry_8'), (0.0, 'entry_78'), (0.0, 'entry_73'), (0.0, 'entry_72'), (0.0, 'entry_70'), (0.0, 'entry_7'), (0.0, 'entry_62'), (0.0, 'entry_60'), (0.0, 'entry_59'), (0.0, 'entry_57'), (0.0, 'entry_5'), (0.0, 'entry_48'), (0.0, 'entry_47'), (0.0, 'entry_46'), (0.0, 'entry_44'), (0.0, 'entry_43'), (0.0, 'entry_42'), (0.0, 'entry_39'), (0.0, 'entry_34'), (0.0, 'entry_32'), (0.0, 'entry_28'), (0.0, 'entry_27'), (0.0, 'entry_26'), (0.0, 'entry_248'), (0.0, 'entry_226'), (0.0, 'entry_225'), (0.0, 'entry_21'), (0.0, 'entry_169'), (0.0, 'entry_168'), (0.0, 'entry_166'), (0.0, 'entry_163'), (0.0, 'entry_161'), (0.0, 'entry_15'), (0.0, 'entry_145'), (0.0, 'entry_141'), (0.0, 'entry_139'), (0.0, 'entry_138'), (0.0, 'entry_132'), (0.0, 'entry_130'), (0.0, 'entry_124'), (0.0, 'entry_116'), (0.0, 'entry_114'), (0.0, 'entry_112'), (0.0, 'entry_109'), (0.0, 'entry_107'), (0.0, 'entry_105'), (0.0, 'entry_1'), (0.0, 'choronym_99'), (0.0, 'choronym_98'), (0.0, 'choronym_95'), (0.0, 'choronym_94'), (0.0, 'choronym_93'), (0.0, 'choronym_91'), (0.0, 'choronym_90'), (0.0, 'choronym_9'), (0.0, 'choronym_87'), (0.0, 'choronym_86'), (0.0, 'choronym_85'), (0.0, 'choronym_84'), (0.0, 'choronym_82'), (0.0, 'choronym_81'), (0.0, 'choronym_80'), (0.0, 'choronym_8'), (0.0, 'choronym_79'), (0.0, 'choronym_76'), (0.0, 'choronym_75'), (0.0, 'choronym_74'), (0.0, 'choronym_73'), (0.0, 'choronym_72'), (0.0, 'choronym_71'), (0.0, 'choronym_7'), (0.0, 'choronym_69'), (0.0, 'choronym_67'), (0.0, 'choronym_66'), (0.0, 'choronym_64'), (0.0, 'choronym_63'), (0.0, 'choronym_62'), (0.0, 'choronym_61'), (0.0, 'choronym_6'), (0.0, 'choronym_59'), (0.0, 'choronym_58'), (0.0, 'choronym_55'), (0.0, 'choronym_53'), (0.0, 'choronym_51'), (0.0, 'choronym_49'), (0.0, 'choronym_48'), (0.0, 'choronym_47'), (0.0, 'choronym_46'), (0.0, 'choronym_43'), (0.0, 'choronym_42'), (0.0, 'choronym_41'), (0.0, 'choronym_4'), (0.0, 'choronym_39'), (0.0, 'choronym_38'), (0.0, 'choronym_37'), (0.0, 'choronym_36'), (0.0, 'choronym_34'), (0.0, 'choronym_33'), (0.0, 'choronym_32'), (0.0, 'choronym_31'), (0.0, 'choronym_3'), (0.0, 'choronym_29'), (0.0, 'choronym_28'), (0.0, 'choronym_27'), (0.0, 'choronym_25'), (0.0, 'choronym_24'), (0.0, 'choronym_23'), (0.0, 'choronym_22'), (0.0, 'choronym_20'), (0.0, 'choronym_2'), (0.0, 'choronym_17'), (0.0, 'choronym_16'), (0.0, 'choronym_156'), (0.0, 'choronym_154'), (0.0, 'choronym_15'), (0.0, 'choronym_147'), (0.0, 'choronym_14'), (0.0, 'choronym_13'), (0.0, 'choronym_117'), (0.0, 'choronym_115'), (0.0, 'choronym_112'), (0.0, 'choronym_110'), (0.0, 'choronym_11'), (0.0, 'choronym_109'), (0.0, 'choronym_108'), (0.0, 'choronym_106'), (0.0, 'choronym_105'), (0.0, 'choronym_104'), (0.0, 'choronym_101'), (0.0, 'choronym_100'), (0.0, 'choronym_10'), (0.0, 'choronym_1'), (0.0, 'Lu_13952'), (0.0, 'Lu_13700'), (0.0, 'Lu_13576'), (0.0, 'Lu_13425'), (0.0, 'Lu_13284'), (0.0, 'Lu_13015'), (0.0, 'Lu_12587'), (0.0, 'Lu_11857'), (0.0, 'Lu_11287')]\n"
     ]
    }
   ],
   "source": [
    "rfr.fit(dataset_X, dataset_y)\n",
    "print(sorted(zip(map(lambda x: round(x, 4), rfr.feature_importances_),labelsel), reverse=True))"
   ]
  },
  {
   "cell_type": "code",
   "execution_count": null,
   "metadata": {
    "scrolled": true
   },
   "outputs": [
    {
     "name": "stderr",
     "output_type": "stream",
     "text": [
      "C:\\Users\\mengqili\\AppData\\Local\\Continuum\\anaconda3\\lib\\site-packages\\sklearn\\cross_validation.py:41: DeprecationWarning: This module was deprecated in version 0.18 in favor of the model_selection module into which all the refactored classes and functions are moved. Also note that the interface of the new CV iterators are different from that of this module. This module will be removed in 0.20.\n",
      "  \"This module will be removed in 0.20.\", DeprecationWarning)\n",
      "C:\\Users\\mengqili\\AppData\\Local\\Continuum\\anaconda3\\lib\\site-packages\\sklearn\\grid_search.py:42: DeprecationWarning: This module was deprecated in version 0.18 in favor of the model_selection module into which all the refactored classes and functions are moved. This module will be removed in 0.20.\n",
      "  DeprecationWarning)\n"
     ]
    }
   ],
   "source": [
    "#dataset_y = data[['Rank']]\n",
    "#dataset_y = dataset_y.as_matrix().ravel()\n",
    "from sklearn import grid_search\n",
    "parameters = {'kernel': ('linear', 'rbf','poly'), 'C':[1.5, 10],'gamma': [1e-7, 1e-4],'epsilon':[0.1,0.2,0.5,0.3]}\n",
    "svr = SVR()\n",
    "X_train, X_test, y_train, y_test = train_test_split(dataset_X, dataset_y, test_size = 0.2, random_state = 42)\n",
    "clf = grid_search.GridSearchCV(svr, parameters)\n",
    "clf.fit(X_train, y_train)\n",
    "best_params = clf.best_params_\n",
    "svr = SVR(kernel = best_params['kernel'], C = best_params['C'], gamma= best_params['gamma'], epsilon =  best_params['epsilon'])\n",
    "svr.fit(X_train, y_train)\n",
    "y_pred = svr.predict(X_test)\n",
    "print(metrics.mean_squared_error(y_test, y_pred))"
   ]
  },
  {
   "cell_type": "code",
   "execution_count": null,
   "metadata": {},
   "outputs": [],
   "source": [
    "#best_params"
   ]
  },
  {
   "cell_type": "code",
   "execution_count": null,
   "metadata": {},
   "outputs": [],
   "source": []
  }
 ],
 "metadata": {
  "kernelspec": {
   "display_name": "Python 3",
   "language": "python",
   "name": "python3"
  },
  "language_info": {
   "codemirror_mode": {
    "name": "ipython",
    "version": 3
   },
   "file_extension": ".py",
   "mimetype": "text/x-python",
   "name": "python",
   "nbconvert_exporter": "python",
   "pygments_lexer": "ipython3",
   "version": "3.6.5"
  }
 },
 "nbformat": 4,
 "nbformat_minor": 2
}
