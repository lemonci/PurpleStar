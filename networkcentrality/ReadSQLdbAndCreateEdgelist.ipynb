{
 "cells": [
  {
   "cell_type": "code",
   "execution_count": null,
   "metadata": {},
   "outputs": [],
   "source": [
    "import sqlite3\n",
    "from sqlite3 import Error\n",
    "import pandas as pd\n",
    "import numpy as np\n",
    "\n",
    "def create_connection(db_file):\n",
    "    \"\"\" create a database connection to the SQLite database\n",
    "        specified by db_file\n",
    "    :param db_file: database file\n",
    "    :return: Connection object or None\n",
    "    \"\"\"\n",
    "    try:\n",
    "        conn = sqlite3.connect(db_file)\n",
    "        return conn\n",
    "    except Error as e:\n",
    "        print(e)\n",
    " \n",
    "    return None"
   ]
  },
  {
   "cell_type": "code",
   "execution_count": null,
   "metadata": {},
   "outputs": [],
   "source": [
    "# Elimiate relationships outside the list, and, \n",
    "# Elimiate relationships which the two parties' index year are bigger than 100 years.\n",
    "def filting(relationlist, peoplelist, years):\n",
    "    \n",
    "    tempdf = relationlist.join(peoplelist, on='initiator')\n",
    "    tempdf.columns = ['initiator', 'object', 'category', 'iniYear', 'iniIn']\n",
    "    tempdf = tempdf.join(peoplelist, on='object')\n",
    "    tempdf.columns = ['initiator', 'object', 'category','iniYear', 'iniIn', 'objYear', 'objIn' ]\n",
    "    tempdf['keep'] = tempdf.iniIn | tempdf.objIn\n",
    "    tempdf.drop(['iniIn','objIn'], axis = 1, inplace = True)\n",
    "    edgelist = tempdf[tempdf.keep].drop('keep', axis = 1)\n",
    "        \n",
    "    return edgelist[abs(edgelist.iniYear - edgelist.objYear) < years].drop(['iniYear','objYear'],axis = 1)"
   ]
  },
  {
   "cell_type": "code",
   "execution_count": null,
   "metadata": {},
   "outputs": [],
   "source": []
  },
  {
   "cell_type": "code",
   "execution_count": null,
   "metadata": {},
   "outputs": [],
   "source": [
    "databasename = \"CBDB_aw_20180831_sqlite.db\"\n",
    " \n",
    "# create a database connection\n",
    "conn = create_connection(databasename)\n",
    "cur = conn.cursor()"
   ]
  },
  {
   "cell_type": "code",
   "execution_count": null,
   "metadata": {},
   "outputs": [],
   "source": [
    "peopleyear = pd.read_csv(\"LindexYear.csv\")\n",
    "peopleyear['up'] = peopleyear.LindexYear >1140-100\n",
    "peopleyear['down'] = peopleyear.LindexYear < 1249\n",
    "peopleyear['final'] = peopleyear.up & peopleyear.down\n",
    "peopleyear.drop([\"up\",\"down\"], axis = 1,  inplace = True)\n",
    "peopleyear.set_index('c_personid', inplace = True)"
   ]
  },
  {
   "cell_type": "code",
   "execution_count": null,
   "metadata": {
    "scrolled": true
   },
   "outputs": [],
   "source": [
    "peopleyear"
   ]
  },
  {
   "cell_type": "code",
   "execution_count": null,
   "metadata": {},
   "outputs": [],
   "source": []
  },
  {
   "cell_type": "markdown",
   "metadata": {},
   "source": [
    "# fetch data from db"
   ]
  },
  {
   "cell_type": "code",
   "execution_count": null,
   "metadata": {},
   "outputs": [],
   "source": [
    "# Use SQL to get association table\n",
    "cur.execute(\"SELECT c_personid AS personA, c_assoc_id AS personB, c_assoc_code from assoc_data\")\n",
    "\n",
    "rows = cur.fetchall() "
   ]
  },
  {
   "cell_type": "code",
   "execution_count": null,
   "metadata": {},
   "outputs": [],
   "source": []
  },
  {
   "cell_type": "code",
   "execution_count": null,
   "metadata": {},
   "outputs": [],
   "source": [
    "# convert to panda dataframe\n",
    "asso = pd.DataFrame(rows, columns=['initiator', 'object', 'category'])"
   ]
  },
  {
   "cell_type": "code",
   "execution_count": null,
   "metadata": {
    "scrolled": true
   },
   "outputs": [],
   "source": []
  },
  {
   "cell_type": "code",
   "execution_count": null,
   "metadata": {},
   "outputs": [],
   "source": [
    "assowithyear = filting(asso, peopleyear, 100)"
   ]
  },
  {
   "cell_type": "code",
   "execution_count": null,
   "metadata": {
    "scrolled": true
   },
   "outputs": [],
   "source": []
  },
  {
   "cell_type": "code",
   "execution_count": null,
   "metadata": {},
   "outputs": [],
   "source": [
    "# read weight definition file\n",
    "\n",
    "asso_weight = pd.read_csv(\"assoc_codes_w1.csv\")\n",
    "\n",
    "# drop all columns except association category and weight. \n",
    "asso_weight.drop([\"c_assoc_pair\", \"c_assoc_desc\", \"c_assoc_desc_chn\",\"c_assoc_role_type\", \"c_sortorder\"], axis=1, inplace = True)"
   ]
  },
  {
   "cell_type": "code",
   "execution_count": null,
   "metadata": {},
   "outputs": [],
   "source": [
    "# Join weight into the association table\n",
    "asso_weighted = assowithyear.join(\n",
    "    asso_weight.set_index(\"c_assoc_code\"),\n",
    "    on = \"category\"\n",
    ")\n",
    "# remove relationships with \"nil\" or \"0\" weight. \n",
    "asso_weighted = asso_weighted [asso_weighted[\"Weight\"]!=\"Nil\"]\n",
    "asso_weighted = asso_weighted [asso_weighted[\"Weight\"]!=0]\n",
    "\n",
    "# dropassociation category\n",
    "asso_weighted.drop(\"category\", axis = 1, inplace = True)"
   ]
  },
  {
   "cell_type": "code",
   "execution_count": null,
   "metadata": {
    "scrolled": true
   },
   "outputs": [],
   "source": []
  },
  {
   "cell_type": "markdown",
   "metadata": {},
   "source": [
    "# Kin table"
   ]
  },
  {
   "cell_type": "code",
   "execution_count": null,
   "metadata": {},
   "outputs": [],
   "source": [
    "# Use SQL to get association table\n",
    "#cur.execute(\"SELECT c_personid AS personA, c_kin_id AS personB, c_kin_code from kin_data \\\n",
    "#    WHERE\\\n",
    "#    personA IN (\\\n",
    "#        SELECT c_personid FROM biog_main WHERE c_index_year <= 1912 AND c_index_year >= 618)\\\n",
    "#    AND\\\n",
    "#    c_kin_code IN (75, 82, 107, 111, 135, 138, 163, 168, 176, 180, 182, 183, 184, 185, 186, 188, 191, 193, 194, 195, 196, 198, 199, 202, 204, 205, 206, 207, 211, 212, 213, 220, 221, 222, 226, 227, 229, 230, 231, 234, 235, 307, 326, 327, 329, 334, 335, 339, 343, 344, 363, 373, 377, 378, 420, 436, 437, 439, 440, 450, 451, 452, 453, 454, 455, 456, 457, 458, 467, 468, 559, 560, 575);\")\n",
    "\n",
    "# Use SQL to get association table\n",
    "cur.execute(\"SELECT c_personid AS personA, c_kin_id AS personB, c_kin_code from kin_data \\\n",
    "    WHERE\\\n",
    "    personA IN (\\\n",
    "        SELECT c_personid FROM biog_main WHERE c_index_year <= 3079 AND c_index_year >= 0)\\\n",
    "    AND\\\n",
    "    c_kin_code IN (75, 82, 107, 111, 135, 138, 163, 168, 176, 180, 182, 183, 184, 185, 186, 188, 191, 193, 194, 195, 196, 198, 199, 202, 204, 205, 206, 207, 211, 212, 213, 220, 221, 222, 226, 227, 229, 230, 231, 234, 235, 307, 326, 327, 329, 334, 335, 339, 343, 344, 363, 373, 377, 378, 420, 436, 437, 439, 440, 450, 451, 452, 453, 454, 455, 456, 457, 458, 467, 468, 559, 560, 575);\")\n",
    "\n",
    "\n",
    "\n",
    "rows = cur.fetchall() "
   ]
  },
  {
   "cell_type": "code",
   "execution_count": null,
   "metadata": {},
   "outputs": [],
   "source": [
    "# convert to panda dataframe\n",
    "dkin = pd.DataFrame(rows, columns=['initiator', 'object', 'category'])\n"
   ]
  },
  {
   "cell_type": "code",
   "execution_count": null,
   "metadata": {},
   "outputs": [],
   "source": [
    "dkinwithyear = filting(dkin,peopleyear,100)"
   ]
  },
  {
   "cell_type": "code",
   "execution_count": null,
   "metadata": {
    "scrolled": true
   },
   "outputs": [],
   "source": [
    "# read weight definition file\n",
    "\n",
    "dkin_weight = pd.read_csv(\"kincode_direct_w1.csv\")\n",
    "\n",
    "# drop all columns except association category and weight. \n",
    "dkin_weight.drop([\"Name\"], axis=1, inplace = True)\n",
    "\n",
    "# Join weight into the association table\n",
    "dkin_weighted = dkinwithyear.join(\n",
    "    dkin_weight.set_index(\"kin_code\"),\n",
    "    on = \"category\"\n",
    ")\n",
    "\n",
    "# remove relationships with \"nil\" or \"0\" weight. \n",
    "\n",
    "dkin_weighted = dkin_weighted [dkin_weighted[\"Weight\"]!=0]\n",
    "\n",
    "# dropassociation category\n",
    "dkin_weighted.drop(\"category\", axis = 1, inplace = True)"
   ]
  },
  {
   "cell_type": "markdown",
   "metadata": {},
   "source": [
    "# Combine non-kin and kin tables"
   ]
  },
  {
   "cell_type": "code",
   "execution_count": null,
   "metadata": {},
   "outputs": [],
   "source": [
    "# concatenate two tables\n",
    "allasso = pd.concat([asso_weighted,dkin_weighted], axis = 0)\n",
    "\n",
    "# create \"weight\" columns as float type based on \"Weight\" column and then drop \"Weight\" column\n",
    "allasso['weight'] = allasso.Weight.astype('float')\n",
    "allasso.drop('Weight', axis = 1, inplace = True)\n",
    "# add all weight from the same initiator to the same obeject together\n",
    "asso_grouped = allasso.groupby([\"initiator\",\"object\"]).agg('sum').reset_index()\n"
   ]
  },
  {
   "cell_type": "code",
   "execution_count": null,
   "metadata": {},
   "outputs": [],
   "source": [
    "# Check whether there is still duplicates\n",
    "dup = asso_grouped.duplicated()\n",
    "dup [dup == True] # should be an empty \"series\"\n",
    "# recheck the columns names. \n",
    "asso_grouped.columns = ['initiator','object','weight']\n"
   ]
  },
  {
   "cell_type": "code",
   "execution_count": null,
   "metadata": {},
   "outputs": [],
   "source": [
    "# save vanilla version to HDF\n",
    "asso_grouped.to_hdf('asso1140-1149.h5', key='asso', mode='w')"
   ]
  },
  {
   "cell_type": "code",
   "execution_count": null,
   "metadata": {},
   "outputs": [],
   "source": []
  }
 ],
 "metadata": {
  "kernelspec": {
   "display_name": "Python 3",
   "language": "python",
   "name": "python3"
  },
  "language_info": {
   "codemirror_mode": {
    "name": "ipython",
    "version": 3
   },
   "file_extension": ".py",
   "mimetype": "text/x-python",
   "name": "python",
   "nbconvert_exporter": "python",
   "pygments_lexer": "ipython3",
   "version": "3.6.8"
  }
 },
 "nbformat": 4,
 "nbformat_minor": 2
}
