{
 "cells": [
  {
   "cell_type": "code",
   "execution_count": null,
   "metadata": {},
   "outputs": [],
   "source": [
    "import pandas as pd\n",
    "from graph_tool.all import *\n"
   ]
  },
  {
   "cell_type": "code",
   "execution_count": null,
   "metadata": {},
   "outputs": [],
   "source": [
    "# set filename\n",
    "filename = \"assoSongExp.h5\""
   ]
  },
  {
   "cell_type": "code",
   "execution_count": null,
   "metadata": {},
   "outputs": [],
   "source": [
    "# # build graph \n",
    "\n",
    "# read data from a hdf5 file\n",
    "df = pd.read_hdf(filename, key='asso', mode='r')\n",
    "# first [0] and second [1] columns are nodes, the third [2] column is weight\n",
    "\n",
    "# get first two columns to build network\n",
    "testsamples = df.iloc[:,0:2].values\n",
    "\n",
    "# declare the graph\n",
    "pureG = Graph(directed=True)\n",
    "\n",
    "# using the pair of nodes to build a network (without weight yet)\n",
    "# Since we used hash, the returning object is a map storing the name of each vertex\n",
    "namemap = pureG.add_edge_list(testsamples, hashed=True, string_vals=False)\n",
    "\n",
    "# incorporate the map into the graph as a property\n",
    "pureG.vertex_properties['name'] = namemap\n",
    "\n",
    "# save the unweighted graph with a map of name\n",
    "pureG.save(\"networkwithname.xml.gz\")\n",
    "\n",
    "\n",
    "# declare a property map of edges to store weight\n",
    "wtmp = pureG.new_edge_property(\"double\")\n",
    "\n",
    "# assign the third [2] column to the weight map\n",
    "wtmp.a = df.iloc[:,2]\n",
    "# incorporate the weight map into the graph as a property\n",
    "pureG.edge_properties['weight'] = wtmp\n",
    "\n",
    "# save weight along with the network\n",
    "pureG.save(\"networkwithweight.xml.gz\")\n",
    "\n",
    "namelist= []\n",
    "for i in namemap:\n",
    "    namelist.append(i)"
   ]
  },
  {
   "cell_type": "code",
   "execution_count": null,
   "metadata": {},
   "outputs": [],
   "source": [
    "# #Closeness\n",
    "cloG = Graph(directed=True)\n",
    "\n",
    "# load the network\n",
    "cloG.load(\"networkwithweight.xml.gz\")\n",
    "\n",
    "# declare property map of vertex to store closeness of vertex\n",
    "clo_vert = cloG.new_vertex_property(\"double\")\n",
    "\n",
    "graph_tool.centrality.closeness(cloG, weight=cloG.edge_properties['weight'], source=None, vprop=clo_vert, norm=True, harmonic=False)\n",
    "\n",
    "cloG.vertex_properties['VertexCloseness'] = clo_vert\n",
    "\n",
    "# save the final graph\n",
    "cloG.save(\"networkwithclo.xml.gz\")\n",
    "\n",
    "clodf = pd.DataFrame({'code':namelist,'closeness':clo_vert.a})\n",
    "clodf.to_hdf('clodf.h5', key='asso', mode='w')"
   ]
  },
  {
   "cell_type": "code",
   "execution_count": null,
   "metadata": {},
   "outputs": [],
   "source": [
    "# #Betweeness\n",
    "from graph_tool.all import *\n",
    "\n",
    "betG = Graph(directed=True)\n",
    "\n",
    "# load the network\n",
    "betG.load(\"networkwithweight.xml.gz\")\n",
    "\n",
    "# declare property map of vertex to store betweenness of vertex\n",
    "bet_vert = betG.new_vertex_property(\"double\")\n",
    "# declare property map of edge to store betweenness of edge\n",
    "bet_edge = betG.new_edge_property(\"double\")\n",
    "\n",
    "# Calculate the betweenness; Using wtmp as weight, \n",
    "# return the betweenness of vertex to bet_vert, \n",
    "# return the betweenness of edge to bet_edge,\n",
    "graph_tool.centrality.betweenness(betG, pivots=None, vprop=bet_vert, eprop=bet_edge, weight=betG.edge_properties['weight'], norm=False)\n",
    "\n",
    "# incorprate the betweeness map (both edge and vertex) into the graph\n",
    "betG.edge_properties['EdgeBetweenness'] = bet_edge\n",
    "betG.vertex_properties['VertesBetweenness'] = bet_vert\n",
    "\n",
    "# save the final graph\n",
    "betG.save(\"networkwithbet.xml.gz\")\n",
    "\n",
    "betdf = pd.DataFrame({'code':namelist,'betweenness':bet_vert.a})\n",
    "betdf.to_hdf('betdf.h5', key='asso', mode='w')"
   ]
  },
  {
   "cell_type": "code",
   "execution_count": null,
   "metadata": {},
   "outputs": [],
   "source": [
    "# #Eigenvector Still debugging, but can use networkX version instead\n",
    "eigG = Graph(directed=True)\n",
    "\n",
    "# load the network\n",
    "eigG.load(\"networkwithweight.xml.gz\")\n",
    "\n",
    "# declare property map of vertex to store eigenvector of vertex\n",
    "ee, eigp = eigenvector(eigG, weight = eigG.edge_properties['weight'])\n",
    "\n",
    "eigG.vertex_properties['VertesEigenvector'] = eigp\n",
    "\n",
    "# save the final graph\n",
    "eigG.save(\"networkwitheig.xml.gz\")\n",
    "\n",
    "eigdf = pd.DataFrame({'code':namelist,'VertesEigenvector':eigp.a})\n",
    "\n",
    "eigdf.to_hdf('eigdf.h5', key='asso', mode='w')"
   ]
  },
  {
   "cell_type": "code",
   "execution_count": null,
   "metadata": {},
   "outputs": [],
   "source": [
    "\n",
    "\n"
   ]
  },
  {
   "cell_type": "code",
   "execution_count": null,
   "metadata": {},
   "outputs": [],
   "source": []
  },
  {
   "cell_type": "code",
   "execution_count": null,
   "metadata": {},
   "outputs": [],
   "source": []
  },
  {
   "cell_type": "code",
   "execution_count": null,
   "metadata": {},
   "outputs": [],
   "source": []
  },
  {
   "cell_type": "code",
   "execution_count": null,
   "metadata": {},
   "outputs": [],
   "source": [
    "\n",
    "\n"
   ]
  },
  {
   "cell_type": "code",
   "execution_count": null,
   "metadata": {},
   "outputs": [],
   "source": []
  }
 ],
 "metadata": {
  "kernelspec": {
   "display_name": "Python 3",
   "language": "python",
   "name": "python3"
  },
  "language_info": {
   "codemirror_mode": {
    "name": "ipython",
    "version": 3
   },
   "file_extension": ".py",
   "mimetype": "text/x-python",
   "name": "python",
   "nbconvert_exporter": "python",
   "pygments_lexer": "ipython3",
   "version": "3.6.6"
  }
 },
 "nbformat": 4,
 "nbformat_minor": 2
}
