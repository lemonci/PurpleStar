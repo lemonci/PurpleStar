{
 "cells": [
  {
   "cell_type": "code",
   "execution_count": 1,
   "metadata": {},
   "outputs": [],
   "source": [
    "import numpy as np\n",
    "import pandas as pd"
   ]
  },
  {
   "cell_type": "code",
   "execution_count": 2,
   "metadata": {},
   "outputs": [],
   "source": [
    "df = pd.read_csv(\"Song1-9.5onehot.csv\")"
   ]
  },
  {
   "cell_type": "code",
   "execution_count": null,
   "metadata": {},
   "outputs": [],
   "source": []
  },
  {
   "cell_type": "code",
   "execution_count": 3,
   "metadata": {},
   "outputs": [],
   "source": [
    "#samplesize = len(df.index)"
   ]
  },
  {
   "cell_type": "code",
   "execution_count": 4,
   "metadata": {},
   "outputs": [],
   "source": [
    "for i in range(0,10):\n",
    "    test = df.iloc[1963*i:1963*(i+1),2:203]\n",
    "    train = pd.concat([df.iloc[:,2:203], test]).drop_duplicates(keep=False)\n",
    "    test.to_csv(\"test_Songall\"+\"9.\"+str(i), index = False, header = False)\n",
    "    train.to_csv(\"train_Songall\"+\"9.\"+str(i), index = False, header = False)"
   ]
  },
  {
   "cell_type": "code",
   "execution_count": 5,
   "metadata": {},
   "outputs": [],
   "source": [
    "df = df.drop(\"Rank9\", axis = 1)\n",
    "for i in range(0,10):\n",
    "    test = df.iloc[1963*i:1963*(i+1),2:203]\n",
    "    train = pd.concat([df.iloc[:,2:203], test]).drop_duplicates(keep=False)\n",
    "    test.to_csv(\"test_Songall\"+\"18.\"+str(i), index = False, header = False)\n",
    "    train.to_csv(\"train_Songall\"+\"18.\"+str(i), index = False, header = False)"
   ]
  },
  {
   "cell_type": "code",
   "execution_count": null,
   "metadata": {},
   "outputs": [],
   "source": []
  },
  {
   "cell_type": "code",
   "execution_count": null,
   "metadata": {},
   "outputs": [],
   "source": []
  },
  {
   "cell_type": "code",
   "execution_count": null,
   "metadata": {},
   "outputs": [],
   "source": []
  },
  {
   "cell_type": "code",
   "execution_count": null,
   "metadata": {},
   "outputs": [],
   "source": []
  }
 ],
 "metadata": {
  "kernelspec": {
   "display_name": "Python 3",
   "language": "python",
   "name": "python3"
  },
  "language_info": {
   "codemirror_mode": {
    "name": "ipython",
    "version": 3
   },
   "file_extension": ".py",
   "mimetype": "text/x-python",
   "name": "python",
   "nbconvert_exporter": "python",
   "pygments_lexer": "ipython3",
   "version": "3.6.5"
  }
 },
 "nbformat": 4,
 "nbformat_minor": 2
}
